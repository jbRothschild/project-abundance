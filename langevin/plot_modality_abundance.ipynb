{
 "cells": [
  {
   "cell_type": "code",
   "execution_count": 1,
   "metadata": {},
   "outputs": [],
   "source": [
    "import os\n",
    "import numpy as np\n",
    "import matplotlib.pyplot as plt\n",
    "from plot_results import plot_modality, plot_abundance\n",
    "from default import DATA_FOLDER, FIG_FOLDER\n",
    "\n",
    "plt.style.use('src' + os.sep + 'custom_heatmap.mplstyle')"
   ]
  },
  {
   "cell_type": "code",
   "execution_count": 12,
   "metadata": {
    "scrolled": true
   },
   "outputs": [
    {
     "name": "stderr",
     "output_type": "stream",
     "text": [
      "/home/jbrothschild/.local/lib/python3.6/site-packages/scipy/signal/_arraytools.py:45: FutureWarning: Using a non-tuple sequence for multidimensional indexing is deprecated; use `arr[tuple(seq)]` instead of `arr[seq]`. In the future this will be interpreted as an array index, `arr[np.array(seq)]`, which will result either in an error or a different result.\n",
      "  b = a[a_slice]\n"
     ]
    },
    {
     "data": {
      "image/png": "[encoded data removed]",
      "text/plain": [
       "<Figure size 234x180 with 1 Axes>"
      ]
     },
     "metadata": {},
     "output_type": "display_data"
    },
    {
     "data": {
      "image/png": "[encoded data removed]",
      "text/plain": [
       "<Figure size 234x180 with 1 Axes>"
      ]
     },
     "metadata": {},
     "output_type": "display_data"
    }
   ],
   "source": [
    "# 1272 : neutral, 1641 : Chou, 41 : unimodal niche, 431 : bimodal\n",
    "# should be multimodal :1600\n",
    "simNbr = 431\n",
    "for dir in ['mehta','master']:\n",
    "    simDir = DATA_FOLDER + os.sep + dir\n",
    "    file = simDir + os.sep + 'sim' + str(simNbr) + \"_results\" + '.npy'\n",
    "    param = np.load(file, allow_pickle=True)[()]\n",
    "    fig = plot_abundance(param, colour='mediumturquoise')\n",
    "    \n",
    "    fig.savefig(FIG_FOLDER + os.sep + \"niche_\"+dir+'.pdf');\n",
    "    "
   ]
  },
  {
   "cell_type": "code",
   "execution_count": 7,
   "metadata": {},
   "outputs": [
    {
     "data": {
      "image/png": "[encoded data removed]",
      "text/plain": [
       "<Figure size 234x180 with 1 Axes>"
      ]
     },
     "metadata": {},
     "output_type": "display_data"
    },
    {
     "data": {
      "image/png": "[encoded data removed]",
      "text/plain": [
       "<Figure size 234x180 with 1 Axes>"
      ]
     },
     "metadata": {},
     "output_type": "display_data"
    }
   ],
   "source": [
    "for dir in ['mehta','master']:\n",
    "    simDir = DATA_FOLDER + os.sep + dir\n",
    "    fig = plot_modality( simDir, 'immiRate', 'compOverlap', show=True)\n",
    "    fig.savefig(FIG_FOLDER + os.sep + \"phases_\"+dir+'.pdf');"
   ]
  },
  {
   "cell_type": "code",
   "execution_count": null,
   "metadata": {},
   "outputs": [],
   "source": []
  }
 ],
 "metadata": {
  "kernelspec": {
   "display_name": "Python 3",
   "language": "python",
   "name": "python3"
  },
  "language_info": {
   "codemirror_mode": {
    "name": "ipython",
    "version": 3
   },
   "file_extension": ".py",
   "mimetype": "text/x-python",
   "name": "python",
   "nbconvert_exporter": "python",
   "pygments_lexer": "ipython3",
   "version": "3.6.9"
  }
 },
 "nbformat": 4,
 "nbformat_minor": 2
}
